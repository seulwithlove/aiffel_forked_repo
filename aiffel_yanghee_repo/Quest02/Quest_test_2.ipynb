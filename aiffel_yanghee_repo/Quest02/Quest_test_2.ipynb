{
  "nbformat": 4,
  "nbformat_minor": 0,
  "metadata": {
    "colab": {
      "private_outputs": true,
      "provenance": [],
      "include_colab_link": true
    },
    "kernelspec": {
      "name": "python3",
      "display_name": "Python 3"
    },
    "language_info": {
      "name": "python"
    }
  },
  "cells": [
    {
      "cell_type": "markdown",
      "metadata": {
        "id": "view-in-github",
        "colab_type": "text"
      },
      "source": [
        "<a href=\"https://colab.research.google.com/github/claireyy01/AIFFEL_Online_Quest/blob/main/Quest02/Quest_test_2.ipynb\" target=\"_parent\"><img src=\"https://colab.research.google.com/assets/colab-badge.svg\" alt=\"Open In Colab\"/></a>"
      ]
    },
    {
      "cell_type": "code",
      "source": [
        "# 컴프리헨션\n",
        "fish_list = [{\"이름\": \"Nemo\", \"speed\": 3}, {\"이름\": \"Dory\", \"speed\": 5}]\n",
        "\n",
        "def fish_movement_com(fish_list):\n",
        "    fish_movements = [(fish[\"이름\"], fish[\"speed\"]) for fish in fish_list]\n",
        "    for name, speed in fish_movements:\n",
        "        print(f\"{name} is swimming at {speed} m/s\")\n",
        "\n",
        "print(\"Using Comprehension:\")\n",
        "fish_movement_com(fish_list)"
      ],
      "metadata": {
        "id": "pQWxIb_uABc7"
      },
      "execution_count": null,
      "outputs": []
    },
    {
      "cell_type": "code",
      "source": [
        "# 제너레이터\n",
        "fish_list = [{\"이름\": \"Nemo\", \"speed\": 3}, {\"이름\": \"Dory\", \"speed\": 5}]\n",
        "\n",
        "def fish_movement_gen(fish_list):\n",
        "  for fish in fish_list:\n",
        "    yield(fish[\"이름\"], 'is swimming at', fish[\"speed\"], 'm/s')\n",
        "\n",
        "move_gen = fish_movement_gen(fish_list)\n",
        "\n",
        "print(next(move_gen))\n",
        "print(next(move_gen))"
      ],
      "metadata": {
        "id": "NiCHnO-OBhU3"
      },
      "execution_count": null,
      "outputs": []
    },
    {
      "cell_type": "code",
      "source": [],
      "metadata": {
        "id": "diN_kASSCi_W"
      },
      "execution_count": null,
      "outputs": []
    }
  ]
}