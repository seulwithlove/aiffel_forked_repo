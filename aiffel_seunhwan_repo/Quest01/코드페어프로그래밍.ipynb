{
  "nbformat": 4,
  "nbformat_minor": 0,
  "metadata": {
    "colab": {
      "provenance": [],
      "toc_visible": true,
      "include_colab_link": true
    },
    "kernelspec": {
      "name": "python3",
      "display_name": "Python 3"
    },
    "language_info": {
      "name": "python"
    }
  },
  "cells": [
    {
      "cell_type": "markdown",
      "metadata": {
        "id": "view-in-github",
        "colab_type": "text"
      },
      "source": [
        "<a href=\"https://colab.research.google.com/github/leeseunghwan0409/AIFFEL_Online_Quest/blob/main/Quest01/%EC%BD%94%EB%93%9C%ED%8E%98%EC%96%B4%ED%94%84%EB%A1%9C%EA%B7%B8%EB%9E%98%EB%B0%8D.ipynb\" target=\"_parent\"><img src=\"https://colab.research.google.com/assets/colab-badge.svg\" alt=\"Open In Colab\"/></a>"
      ]
    },
    {
      "cell_type": "code",
      "source": [
        "word = input('입력 : ').replace(' ', '')\n",
        "\n",
        "is_right = True\n",
        "for i in range(len(word) // 2):\n",
        "  if word[i] != word[-1 - i]:\n",
        "    is_right = False\n",
        "    break\n",
        "\n",
        "print(is_right)"
      ],
      "metadata": {
        "id": "o_88Y_5qj8BX",
        "colab": {
          "base_uri": "https://localhost:8080/"
        },
        "outputId": "b2623918-f84c-4fa0-870d-c7c5662c993c"
      },
      "execution_count": null,
      "outputs": [
        {
          "output_type": "stream",
          "name": "stdout",
          "text": [
            "입력 : 토마토\n",
            "True\n"
          ]
        }
      ]
    },
    {
      "cell_type": "code",
      "source": [],
      "metadata": {
        "id": "4dSrS15Io9NF"
      },
      "execution_count": null,
      "outputs": []
    }
  ]
}